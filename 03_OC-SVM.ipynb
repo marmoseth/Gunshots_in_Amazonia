{
 "cells": [
  {
   "cell_type": "markdown",
   "id": "6cfa2e18",
   "metadata": {},
   "source": [
    "# 03_OC-SVM [One Class Support Vector Machines]\n",
    "#### Using machine learning to establish additional ground truths"
   ]
  },
  {
   "cell_type": "code",
   "execution_count": 1,
   "id": "786a9f0f",
   "metadata": {
    "code_folding": [
     0
    ],
    "init_cell": true
   },
   "outputs": [],
   "source": [
    "# Importing Packages\n",
    "import matplotlib.pyplot as plt\n",
    "import numpy as np\n",
    "import pandas as pd\n",
    "import os\n",
    "import pickle\n",
    "import scipy"
   ]
  },
  {
   "cell_type": "code",
   "execution_count": 2,
   "id": "76388149",
   "metadata": {
    "code_folding": [
     0
    ],
    "init_cell": true
   },
   "outputs": [
    {
     "name": "stdout",
     "output_type": "stream",
     "text": [
      "pickle file not found\n"
     ]
    }
   ],
   "source": [
    "#Loading Pickle file\n",
    "directory = fr'N:\\Mark\\Audio Diss\\OCC_SVM_Data\\yavari_2018\\audios_part_2\\GY3\\Data\\wav_split'\n",
    "pickle_file_path = os.path.join(directory, 'split_processed_audio.pickle')\n",
    "\n",
    "if os.path.exists(pickle_file_path):\n",
    "    # Load the DataFrame from the pickle file\n",
    "    split_audio_data = pd.read_pickle(pickle_file_path)\n",
    "    print('split_audio_data loaded')\n",
    "    print(f'total entries:',len(split_audio_data))\n",
    "    \n",
    "else:\n",
    "    print('pickle file not found')"
   ]
  },
  {
   "cell_type": "code",
   "execution_count": 9,
   "id": "5b0c99a9",
   "metadata": {
    "code_folding": [
     0
    ]
   },
   "outputs": [
    {
     "data": {
      "text/plain": [
       "<Figure size 1400x1000 with 0 Axes>"
      ]
     },
     "metadata": {},
     "output_type": "display_data"
    },
    {
     "data": {
      "image/png": "[encoded data removed]",
      "text/plain": [
       "<Figure size 640x480 with 3 Axes>"
      ]
     },
     "metadata": {},
     "output_type": "display_data"
    }
   ],
   "source": [
    "#Plot\n",
    "\n",
    "import matplotlib.pyplot as plt\n",
    "%matplotlib inline\n",
    "import seaborn as sns\n",
    "\n",
    "# Set the figure size\n",
    "plt.figure(figsize=(14, 10))\n",
    "\n",
    "\n",
    "# Create the subplots\n",
    "fig, axes = plt.subplots(nrows=3, ncols=1)\n",
    "\n",
    "# Plot the first histogram\n",
    "axes[0].hist(split_audio_data['log_mel_spectrogram'], bins=20)\n",
    "axes[0].set_xlabel('log_mel_spectrogram')\n",
    "axes[0].set_ylabel('samples')\n",
    "\n",
    "# Plot the second histogram\n",
    "axes[1].hist(split_audio_data['mfcc_r'], bins=20)\n",
    "axes[1].set_xlabel('mfcc_r')\n",
    "axes[1].set_ylabel('samples')\n",
    "\n",
    "# Plot the third histogram\n",
    "axes[2].hist(split_audio_data['ssm_r'], bins=20)\n",
    "axes[2].set_xlabel('ssm_r')\n",
    "axes[2].set_ylabel('samples')\n",
    "\n",
    "# Adjust the spacing between subplots\n",
    "plt.tight_layout()\n",
    "\n",
    "# Show the plots\n",
    "plt.show()"
   ]
  },
  {
   "cell_type": "code",
   "execution_count": 106,
   "id": "55df469f",
   "metadata": {
    "code_folding": [
     0
    ],
    "scrolled": true
   },
   "outputs": [
    {
     "data": {
      "text/html": [
       "<div>\n",
       "<style scoped>\n",
       "    .dataframe tbody tr th:only-of-type {\n",
       "        vertical-align: middle;\n",
       "    }\n",
       "\n",
       "    .dataframe tbody tr th {\n",
       "        vertical-align: top;\n",
       "    }\n",
       "\n",
       "    .dataframe thead th {\n",
       "        text-align: right;\n",
       "    }\n",
       "</style>\n",
       "<table border=\"1\" class=\"dataframe\">\n",
       "  <thead>\n",
       "    <tr style=\"text-align: right;\">\n",
       "      <th></th>\n",
       "      <th>mfcc</th>\n",
       "      <th>ssm</th>\n",
       "    </tr>\n",
       "  </thead>\n",
       "  <tbody>\n",
       "    <tr>\n",
       "      <th>count</th>\n",
       "      <td>122400.000000</td>\n",
       "      <td>122400.000000</td>\n",
       "    </tr>\n",
       "    <tr>\n",
       "      <th>mean</th>\n",
       "      <td>-13.146235</td>\n",
       "      <td>0.062932</td>\n",
       "    </tr>\n",
       "    <tr>\n",
       "      <th>std</th>\n",
       "      <td>1.429369</td>\n",
       "      <td>0.007416</td>\n",
       "    </tr>\n",
       "    <tr>\n",
       "      <th>min</th>\n",
       "      <td>-15.174419</td>\n",
       "      <td>0.042710</td>\n",
       "    </tr>\n",
       "    <tr>\n",
       "      <th>25%</th>\n",
       "      <td>-14.366598</td>\n",
       "      <td>0.057242</td>\n",
       "    </tr>\n",
       "    <tr>\n",
       "      <th>50%</th>\n",
       "      <td>-13.426976</td>\n",
       "      <td>0.063103</td>\n",
       "    </tr>\n",
       "    <tr>\n",
       "      <th>75%</th>\n",
       "      <td>-12.331260</td>\n",
       "      <td>0.068626</td>\n",
       "    </tr>\n",
       "    <tr>\n",
       "      <th>max</th>\n",
       "      <td>-4.737278</td>\n",
       "      <td>0.091335</td>\n",
       "    </tr>\n",
       "  </tbody>\n",
       "</table>\n",
       "</div>"
      ],
      "text/plain": [
       "                mfcc            ssm\n",
       "count  122400.000000  122400.000000\n",
       "mean      -13.146235       0.062932\n",
       "std         1.429369       0.007416\n",
       "min       -15.174419       0.042710\n",
       "25%       -14.366598       0.057242\n",
       "50%       -13.426976       0.063103\n",
       "75%       -12.331260       0.068626\n",
       "max        -4.737278       0.091335"
      ]
     },
     "execution_count": 106,
     "metadata": {},
     "output_type": "execute_result"
    }
   ],
   "source": [
    "#MFCC - SSM\n",
    "ssm = []\n",
    "mfcc = []\n",
    "for i in split_audio_data:\n",
    "    for j in split_audio_data['mfcc']:\n",
    "        mfcc.append(np.mean(j))\n",
    "    for z in split_audio_data['ssm_r']:\n",
    "        ssm.append(np.mean(z))\n",
    "        \n",
    "df = pd.DataFrame({'mfcc': mfcc, 'ssm':ssm})\n",
    "df.describe()"
   ]
  },
  {
   "cell_type": "code",
   "execution_count": 94,
   "id": "878fcac5",
   "metadata": {
    "code_folding": [
     0
    ]
   },
   "outputs": [
    {
     "name": "stdout",
     "output_type": "stream",
     "text": [
      "             ssm        lms\n",
      "0       0.084105 -58.490829\n",
      "46      0.075523 -37.871517\n",
      "65      0.047706 -58.448372\n",
      "112     0.054732 -33.368114\n",
      "124     0.060002 -36.533745\n",
      "...          ...        ...\n",
      "122369  0.059160 -37.531227\n",
      "122371  0.055745 -37.845013\n",
      "122376  0.072854 -37.268646\n",
      "122379  0.059213 -37.644524\n",
      "122382  0.059516 -37.657810\n",
      "\n",
      "[2448 rows x 2 columns]\n"
     ]
    }
   ],
   "source": [
    "#SK Learn OC-SVM\n",
    "from sklearn.svm import OneClassSVM\n",
    "\n",
    "model = OneClassSVM(kernel='rbf', gamma= 0.001, nu = 0.02).fit(df)\n",
    "y_pred = model.predict(df)\n",
    "\n",
    "anomaly_val = df.iloc[np.where(y_pred== -1)]\n",
    "print(anomaly_val)"
   ]
  },
  {
   "cell_type": "code",
   "execution_count": 95,
   "id": "c61cd3a8",
   "metadata": {
    "code_folding": [
     0
    ]
   },
   "outputs": [
    {
     "data": {
      "text/plain": [
       "Text(0.5, 1.0, 'Anomaly Detection')"
      ]
     },
     "execution_count": 95,
     "metadata": {},
     "output_type": "execute_result"
    },
    {
     "data": {
      "image/png": "[encoded data removed]",
      "text/plain": [
       "<Figure size 640x480 with 1 Axes>"
      ]
     },
     "metadata": {},
     "output_type": "display_data"
    }
   ],
   "source": [
    "#Visualise Anomalies\n",
    "plt.scatter(df['ssm'], df['lms'])\n",
    "plt.scatter(anomaly_val['ssm'], anomaly_val['lms'], c = 'r')\n",
    "plt.title('Anomaly Detection')"
   ]
  },
  {
   "cell_type": "code",
   "execution_count": 108,
   "id": "2f2e800a",
   "metadata": {
    "code_folding": [
     0
    ]
   },
   "outputs": [],
   "source": [
    "#Get ground truth from anomalies\n",
    "gt_audio_data = split_audio_data[~split_audio_data.index.isin(anomaly_val.index)]"
   ]
  },
  {
   "cell_type": "code",
   "execution_count": 112,
   "id": "5e629192",
   "metadata": {
    "code_folding": [
     0
    ]
   },
   "outputs": [],
   "source": [
    "#Pickle output\n",
    "directory = fr'N:\\Mark\\Audio Diss\\pickle_data'\n",
    "gt_pickle_file_path = os.path.join(directory, 'gt_processed_audio.pickle')\n",
    "\n",
    "gt_audio_data.to_pickle(gt_pickle_file_path, protocol=pickle.HIGHEST_PROTOCOL)"
   ]
  }
 ],
 "metadata": {
  "celltoolbar": "Initialization Cell",
  "kernelspec": {
   "display_name": "Python 3 (ipykernel)",
   "language": "python",
   "name": "python3"
  },
  "language_info": {
   "codemirror_mode": {
    "name": "ipython",
    "version": 3
   },
   "file_extension": ".py",
   "mimetype": "text/x-python",
   "name": "python",
   "nbconvert_exporter": "python",
   "pygments_lexer": "ipython3",
   "version": "3.9.17"
  },
  "varInspector": {
   "cols": {
    "lenName": 16,
    "lenType": 16,
    "lenVar": 40
   },
   "kernels_config": {
    "python": {
     "delete_cmd_postfix": "",
     "delete_cmd_prefix": "del ",
     "library": "var_list.py",
     "varRefreshCmd": "print(var_dic_list())"
    },
    "r": {
     "delete_cmd_postfix": ") ",
     "delete_cmd_prefix": "rm(",
     "library": "var_list.r",
     "varRefreshCmd": "cat(var_dic_list()) "
    }
   },
   "position": {
    "height": "144.844px",
    "left": "1810px",
    "right": "20px",
    "top": "123px",
    "width": "350px"
   },
   "types_to_exclude": [
    "module",
    "function",
    "builtin_function_or_method",
    "instance",
    "_Feature"
   ],
   "window_display": false
  },
  "vp": {
   "vp_config_version": "1.0.0",
   "vp_menu_width": 273,
   "vp_note_display": false,
   "vp_note_width": 0,
   "vp_position": {
    "width": 278
   },
   "vp_section_display": false,
   "vp_signature": "VisualPython"
  }
 },
 "nbformat": 4,
 "nbformat_minor": 5
}
